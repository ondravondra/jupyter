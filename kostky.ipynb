{
 "cells": [
  {
   "cell_type": "markdown",
   "metadata": {},
   "source": [
    "# Házení dvěma kostkami a sčítání padnutých hodnot"
   ]
  },
  {
   "cell_type": "code",
   "execution_count": null,
   "metadata": {
    "jupyter": {
     "source_hidden": true
    }
   },
   "outputs": [],
   "source": [
    "%matplotlib inline"
   ]
  },
  {
   "cell_type": "code",
   "execution_count": null,
   "metadata": {
    "jupyter": {
     "source_hidden": true
    }
   },
   "outputs": [],
   "source": [
    "import matplotlib.pyplot as plt\n",
    "import matplotlib.colors as colors\n",
    "import numpy as np\n",
    "\n",
    "def possible_throws():\n",
    "    t = np.zeros((6, 6))\n",
    "    for a in range(1,7):\n",
    "        for b in range(1,7):\n",
    "            t[a-1, b-1] = int(a + b)\n",
    "    return t.astype(int)\n",
    "\n",
    "pt = possible_throws()\n",
    "pt_cnt = np.bincount(pt.flatten())\n",
    "pt_freq = np.vectorize(lambda a : pt_cnt[a] / 36)(pt)"
   ]
  },
  {
   "cell_type": "markdown",
   "metadata": {},
   "source": [
    "Všechny možné součty hodu první kostkou (nahoře) a druhou kostkou (vlevo):"
   ]
  },
  {
   "cell_type": "code",
   "execution_count": null,
   "metadata": {
    "jupyter": {
     "source_hidden": true
    }
   },
   "outputs": [],
   "source": [
    "plt.matshow(pt_freq, cmap='Reds')\n",
    "\n",
    "for (i, j), z in np.ndenumerate(pt):\n",
    "    plt.text(i, j, '{:0}'.format(pt[i, j]), ha='center', va='center')\n",
    "\n",
    "plt.xticks(range(0,6), range(1,7))\n",
    "plt.yticks(range(0,6), range(1,7))\n",
    "plt.xlabel('První kostka')\n",
    "plt.ylabel('Druhá kostka')\n",
    "plt.show()"
   ]
  },
  {
   "cell_type": "markdown",
   "metadata": {},
   "source": [
    "Kolik různých kombinací hodů vede ke stejnému výslednému součtu (dole):"
   ]
  },
  {
   "cell_type": "code",
   "execution_count": null,
   "metadata": {
    "jupyter": {
     "source_hidden": true
    }
   },
   "outputs": [],
   "source": [
    "plt.bar(np.arange(2,13), pt_cnt[2:13])\n",
    "plt.xticks(range(2,13))\n",
    "plt.xlabel('Součet hodnot obou kostek')\n",
    "plt.ylabel('Počet možných kombinací')\n",
    "for i, v in enumerate(pt_cnt[2:13]):\n",
    "    plt.text(i + 2, v, str(v), fontweight='bold', ha='center', va='bottom')\n",
    "plt.show()"
   ]
  },
  {
   "cell_type": "markdown",
   "metadata": {},
   "source": [
    "Skutečný počet jednotlivých součtů po opakovaném hodu oběma kostkami:"
   ]
  },
  {
   "cell_type": "code",
   "execution_count": null,
   "metadata": {
    "jupyter": {
     "source_hidden": true
    }
   },
   "outputs": [],
   "source": [
    "import ipywidgets as widgets\n",
    "\n",
    "def real_throw_sums(n):\n",
    "    throws = np.random.randint(1, 7, size=(2,n))\n",
    "    return np.add(throws[0], throws[1])\n",
    "\n",
    "def plot_real_throw_sums(n):\n",
    "    real_cnt = np.add(np.zeros(13).astype(int), np.bincount(real_throw_sums(n), minlength=13))\n",
    "    max_cnt = np.amax(real_cnt)\n",
    "    plt.bar(np.arange(2,13), real_cnt[2:13])\n",
    "    plt.xticks(range(2,13))\n",
    "    plt.yticks(np.arange(0, 1 + np.ceil(max_cnt/6.)*6, np.maximum(np.ceil(max_cnt/6.), 1)))\n",
    "    plt.xlabel('Součet hodnot obou kostek')\n",
    "    plt.ylabel('Počet hodů oběma kostkami')\n",
    "    for i, v in enumerate(real_cnt[2:13]):\n",
    "        plt.text(i + 2, v, str(v), fontweight='bold', ha='center', va='bottom')\n",
    "    plt.show()\n",
    "\n",
    "widgets.interact(plot_real_throw_sums, n=widgets.IntSlider(min=0, max=10000, step=10, value=0, description=\"Počet hodů\", layout=widgets.Layout(width='50%')));"
   ]
  }
 ],
 "metadata": {
  "kernelspec": {
   "display_name": "Python 3",
   "language": "python",
   "name": "python3"
  },
  "language_info": {
   "codemirror_mode": {
    "name": "ipython",
    "version": 3
   },
   "file_extension": ".py",
   "mimetype": "text/x-python",
   "name": "python",
   "nbconvert_exporter": "python",
   "pygments_lexer": "ipython3",
   "version": "3.8.6"
  }
 },
 "nbformat": 4,
 "nbformat_minor": 4
}
