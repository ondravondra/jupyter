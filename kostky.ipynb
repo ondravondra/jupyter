{
 "cells": [
  {
   "cell_type": "code",
   "execution_count": null,
   "metadata": {
    "jupyter": {
     "source_hidden": true
    }
   },
   "outputs": [],
   "source": [
    "%matplotlib inline"
   ]
  },
  {
   "cell_type": "code",
   "execution_count": null,
   "metadata": {
    "jupyter": {
     "source_hidden": true
    }
   },
   "outputs": [],
   "source": [
    "import matplotlib.pyplot as plt\n",
    "import matplotlib.colors as colors\n",
    "import numpy as np\n",
    "\n",
    "def possible_throws():\n",
    "    t = np.zeros((6, 6))\n",
    "    for a in range(1,7):\n",
    "        for b in range(1,7):\n",
    "            t[a-1, b-1] = int(a + b)\n",
    "    return t.astype(int)\n",
    "\n",
    "pt = possible_throws()\n",
    "pt_cnt = np.bincount(pt.flatten())\n",
    "pt_freq = np.vectorize(lambda a : pt_cnt[a] / 36)(pt)"
   ]
  },
  {
   "cell_type": "markdown",
   "metadata": {},
   "source": [
    "Všechny možné součty hodu první kostkou (nahoře) a druhou kostkou (vlevo):"
   ]
  },
  {
   "cell_type": "code",
   "execution_count": null,
   "metadata": {
    "jupyter": {
     "source_hidden": true
    }
   },
   "outputs": [],
   "source": [
    "plt.matshow(pt_freq, cmap='Reds')\n",
    "\n",
    "for (i, j), z in np.ndenumerate(pt):\n",
    "    plt.text(i, j, '{:0}'.format(pt[i, j]), ha='center', va='center')\n",
    "\n",
    "plt.xticks(range(0,6), range(1,7))\n",
    "plt.yticks(range(0,6), range(1,7))\n",
    "plt.show()"
   ]
  },
  {
   "cell_type": "markdown",
   "metadata": {},
   "source": [
    "Kolik různých kombinací hodů vede ke stejnému výslednému součtu (dole):"
   ]
  },
  {
   "cell_type": "code",
   "execution_count": null,
   "metadata": {
    "jupyter": {
     "source_hidden": true
    }
   },
   "outputs": [],
   "source": [
    "plt.bar(np.arange(2,13), pt_cnt[2:13])\n",
    "plt.xticks(range(2,13))\n",
    "plt.show()"
   ]
  },
  {
   "cell_type": "code",
   "execution_count": null,
   "metadata": {},
   "outputs": [],
   "source": []
  }
 ],
 "metadata": {
  "kernelspec": {
   "display_name": "Python 3",
   "language": "python",
   "name": "python3"
  },
  "language_info": {
   "codemirror_mode": {
    "name": "ipython",
    "version": 3
   },
   "file_extension": ".py",
   "mimetype": "text/x-python",
   "name": "python",
   "nbconvert_exporter": "python",
   "pygments_lexer": "ipython3",
   "version": "3.8.6"
  }
 },
 "nbformat": 4,
 "nbformat_minor": 4
}
