{
 "cells": [
  {
   "cell_type": "markdown",
   "metadata": {},
   "source": [
    "# がんばって！"
   ]
  },
  {
   "cell_type": "code",
   "execution_count": null,
   "metadata": {
    "jupyter": {
     "source_hidden": true
    },
    "tags": [
     "hide-input"
    ]
   },
   "outputs": [],
   "source": [
    "import ipywidgets as widgets\n",
    "from sympy import symbols, Eq, latex, pretty\n",
    "from sympy.solvers import solve\n",
    "from IPython.display import display, clear_output, Latex, Math, Markdown\n",
    "from threading import Timer\n",
    "\n",
    "x = symbols('x')\n",
    "\n",
    "def ask_equation(eq):\n",
    "    answer_text = widgets.Text()\n",
    "    answer_feedback = widgets.Output()\n",
    "    answer_check = widgets.Button(description=\"Zkontrolovat\")\n",
    "\n",
    "    def answer_reenable():\n",
    "        answer_text.disabled = answer_check.disabled = False\n",
    "\n",
    "    def answer_submit(b):\n",
    "        a = int(answer_text.value)\n",
    "        r = solve(eq, x)\n",
    "        correct = [a] == r\n",
    "        with answer_feedback:\n",
    "            clear_output()\n",
    "            print(\"Správně\" if correct else \"\\x1b[5;30;41mŠpatně\")\n",
    "        answer_text.disabled = answer_check.disabled = True\n",
    "        if not correct:\n",
    "            Timer(3.0, answer_reenable).start()\n",
    "\n",
    "    answer_check.on_click(answer_submit)\n",
    "    answer_text.on_submit(answer_submit)\n",
    "\n",
    "    display(Markdown('---'))\n",
    "    display(Math(latex(eq)))\n",
    "    display(widgets.HBox([answer_text, answer_check, answer_feedback]))\n",
    "    display(Markdown(\"[pomoc](https://ondravondra.github.io/rovnice/#\" + pretty(eq).replace(\" \", \"\") + \")\"))"
   ]
  },
  {
   "cell_type": "code",
   "execution_count": null,
   "metadata": {
    "jupyter": {
     "source_hidden": true
    },
    "tags": [
     "hide-input"
    ]
   },
   "outputs": [],
   "source": [
    "import random\n",
    "for n in range(10):\n",
    "    a = random.randint(10, 99)\n",
    "    b = random.randint(6, a)\n",
    "\n",
    "    for t in [random.randrange(4)]:\n",
    "        if t == 0:\n",
    "            ask_equation(Eq(a - x, b))\n",
    "        if t == 1:\n",
    "            c = a-b\n",
    "            ask_equation(Eq(x - c, b))\n",
    "        if t == 2:\n",
    "            ask_equation(Eq(x + b, a))\n",
    "        if t == 3:\n",
    "            ask_equation(Eq(b + x, a))"
   ]
  },
  {
   "cell_type": "code",
   "execution_count": null,
   "metadata": {},
   "outputs": [],
   "source": []
  }
 ],
 "metadata": {
  "celltoolbar": "Tags",
  "kernelspec": {
   "display_name": "Python 3",
   "language": "python",
   "name": "python3"
  },
  "language_info": {
   "codemirror_mode": {
    "name": "ipython",
    "version": 3
   },
   "file_extension": ".py",
   "mimetype": "text/x-python",
   "name": "python",
   "nbconvert_exporter": "python",
   "pygments_lexer": "ipython3",
   "version": "3.8.6"
  }
 },
 "nbformat": 4,
 "nbformat_minor": 4
}
